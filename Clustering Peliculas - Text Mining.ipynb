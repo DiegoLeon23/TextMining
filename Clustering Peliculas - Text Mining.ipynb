{
 "cells": [
  {
   "cell_type": "markdown",
   "metadata": {},
   "source": [
    "## Clustering de Películas"
   ]
  },
  {
   "cell_type": "markdown",
   "metadata": {},
   "source": [
    "#### **_Diego Leon Ortiz - Preprocesamiento de texto y Clustering_**"
   ]
  },
  {
   "cell_type": "code",
   "execution_count": 68,
   "metadata": {},
   "outputs": [],
   "source": [
    "import numpy\n",
    "import pandas\n",
    "import nltk # Nos ayuda con varias funciones relacionadas al procesamiento de texto\n",
    "import re # Regular Expressions : encontrar o hacer busqueda de texto en base a patrones\n",
    "import os\n",
    "import codecs\n",
    "from sklearn import feature_extraction\n",
    "from bs4 import BeautifulSoup\n",
    "\n",
    "import warnings as w \n",
    "w.filterwarnings('ignore')"
   ]
  },
  {
   "cell_type": "markdown",
   "metadata": {},
   "source": [
    "### Carga de datasets"
   ]
  },
  {
   "cell_type": "code",
   "execution_count": 69,
   "metadata": {},
   "outputs": [
    {
     "data": {
      "text/plain": [
       "['The Godfather',\n",
       " 'The Shawshank Redemption',\n",
       " \"Schindler's List\",\n",
       " 'Raging Bull',\n",
       " 'Casablanca']"
      ]
     },
     "execution_count": 69,
     "metadata": {},
     "output_type": "execute_result"
    }
   ],
   "source": [
    "titulos = open('title_list.txt').read().split('\\n')\n",
    "titulos = titulos[:100]\n",
    "titulos[:5]"
   ]
  },
  {
   "cell_type": "code",
   "execution_count": 70,
   "metadata": {},
   "outputs": [
    {
     "data": {
      "text/plain": [
       "\" Plot  [edit]  [  [  edit  edit  ]  ]  \\n  On the day of his only daughter's wedding, Vito Corleone hears requests in his role as the Godfather, the Don of a New York crime family. Vito's youngest son, Michael, in a Marine Corps uniform, introduces his girlfriend, Kay Adams, to his family at the sprawling reception. Vito's godson Johnny Fontane, a popular singer, pleads for help in securing a coveted movie role, so Vito dispatches his consigliere, Tom Hagen, to Los Angeles to influence the abrasive studio head, Jack Woltz. Woltz is unmoved until the morning he wakes up in bed with the severed head of his prized stallion.  On the day of his only daughter's wedding,   Vito Corleone  Vito Corleone   hears requests in his role as the Godfather, the   Don  Don   of a New York crime family. Vito's youngest son,   Michael  Michael  , in a   Marine Corps  Marine Corps   uniform, introduces his girlfriend,   Kay Adams  Kay Adams  , to his family at the sprawling reception. Vito's godson   Johnny\""
      ]
     },
     "execution_count": 70,
     "metadata": {},
     "output_type": "execute_result"
    }
   ],
   "source": [
    "sinopsis_wiki = open('synopses_list_wiki.txt',encoding='utf8').read().split('\\n BREAKS HERE')\n",
    "sinopsis_wiki = sinopsis_wiki[:100]\n",
    "sinopsis_wiki[0][:1000]"
   ]
  },
  {
   "cell_type": "code",
   "execution_count": 71,
   "metadata": {},
   "outputs": [],
   "source": [
    "# #Se limpia el codigo HTML de las synopsis, para usarlo como formato unicode:\n",
    "# sinopsis_clean_wiki = []\n",
    "# for texto in sinopsis_wiki:\n",
    "    \n",
    "#     texto = BeautifulSoup(texto, 'html.parser').getText()\n",
    "    \n",
    "#     #strips html formatting and converts to unicode\n",
    "#     sinopsis_clean_wiki.append(texto)\n",
    "\n",
    "# sinopsis_wiki = sinopsis_clean_wiki"
   ]
  },
  {
   "cell_type": "code",
   "execution_count": 72,
   "metadata": {},
   "outputs": [
    {
     "data": {
      "text/plain": [
       "[\"[u' Crime', u' Drama']\",\n",
       " \"[u' Crime', u' Drama']\",\n",
       " \"[u' Biography', u' Drama', u' History']\",\n",
       " \"[u' Biography', u' Drama', u' Sport']\",\n",
       " \"[u' Drama', u' Romance', u' War']\"]"
      ]
     },
     "execution_count": 72,
     "metadata": {},
     "output_type": "execute_result"
    }
   ],
   "source": [
    "generos = open('genres_list.txt').read().split('\\n')\n",
    "generos = generos[:100]\n",
    "generos[:5]"
   ]
  },
  {
   "cell_type": "code",
   "execution_count": 73,
   "metadata": {
    "scrolled": true
   },
   "outputs": [
    {
     "data": {
      "text/plain": [
       "'\\n\\nIn late summer 1945, guests are gathered for the wedding reception of Don Vito Corleone\\'s daughter Connie (Talia Shire) and Carlo Rizzi (Gianni Russo). Vito (Marlon Brando), the head of the Corleone Mafia family, is known to friends and associates as \"Godfather.\" He and Tom Hagen (Robert Duvall), the Corleone family lawyer, are hearing requests for favors because, according to Italian tradition, \"no Sicilian can refuse a request on his daughter\\'s wedding day.\" One of the men who asks the Don for a favor is Amerigo Bonasera, a successful mortician and acquaintance of the Don, whose daughter was brutally beaten by two young men because she refused their advances; the men received minimal punishment. The Don is disappointed in Bonasera, who\\'d avoided most contact with the Don due to Corleone\\'s nefarious business dealings. The Don\\'s wife is godmother to Bonasera\\'s shamed daughter, a relationship the Don uses to extract new loyalty from the undertaker. The Don agrees to have his men punis'"
      ]
     },
     "execution_count": 73,
     "metadata": {},
     "output_type": "execute_result"
    }
   ],
   "source": [
    "sinopsis_imdb = open('synopses_list_imdb.txt',encoding='utf8').read().split('\\n BREAKS HERE')\n",
    "sinopsis_imdb = sinopsis_imdb[:100]\n",
    "sinopsis_imdb[0][:1000]"
   ]
  },
  {
   "cell_type": "code",
   "execution_count": 74,
   "metadata": {},
   "outputs": [
    {
     "name": "stdout",
     "output_type": "stream",
     "text": [
      "100 titulos\n",
      "100 sinopsis wiki\n",
      "100 sinopsis imdb\n"
     ]
    }
   ],
   "source": [
    "print(str(len(titulos)) + ' titulos')\n",
    "print(str(len(sinopsis_wiki)) + ' sinopsis wiki')\n",
    "print(str(len(sinopsis_imdb)) + ' sinopsis imdb')"
   ]
  },
  {
   "cell_type": "code",
   "execution_count": 75,
   "metadata": {},
   "outputs": [],
   "source": [
    "# synopses_imdb = open('Documents_Movies/synopses_list_imdb.txt').read().split('\\n BREAKS HERE')\n",
    "# synopses_imdb = synopses_imdb[:100]\n",
    "\n",
    "# synopses_clean_imdb = []\n",
    "# for text in synopses_imdb:\n",
    "#     text = BeautifulSoup(text, 'html.parser').getText()\n",
    "#     #strips html formatting and converts to unicode\n",
    "#     synopses_clean_imdb.append(text)\n",
    "# synopses_imdb = synopses_clean_imdb\n",
    "\n",
    "# synopses_imdb[0]"
   ]
  },
  {
   "cell_type": "code",
   "execution_count": 76,
   "metadata": {},
   "outputs": [],
   "source": [
    "#Juntamos las descripciones de wikipedia y imdb por medio de una lista comprimida\n",
    "sinopsis_totales = [wiki + imdb for wiki, imdb in zip(sinopsis_wiki, sinopsis_imdb)]"
   ]
  },
  {
   "cell_type": "code",
   "execution_count": 77,
   "metadata": {
    "scrolled": true
   },
   "outputs": [
    {
     "data": {
      "text/plain": [
       "' Plot  [edit]  [  [  edit  edit  ]  ]  \\n  On the day of his only daughter\\'s wedding, Vito Corleone hears requests in his role as the Godfather, the Don of a New York crime family. Vito\\'s youngest son, Michael, in a Marine Corps uniform, introduces his girlfriend, Kay Adams, to his family at the sprawling reception. Vito\\'s godson Johnny Fontane, a popular singer, pleads for help in securing a coveted movie role, so Vito dispatches his consigliere, Tom Hagen, to Los Angeles to influence the abrasive studio head, Jack Woltz. Woltz is unmoved until the morning he wakes up in bed with the severed head of his prized stallion.  On the day of his only daughter\\'s wedding,   Vito Corleone  Vito Corleone   hears requests in his role as the Godfather, the   Don  Don   of a New York crime family. Vito\\'s youngest son,   Michael  Michael  , in a   Marine Corps  Marine Corps   uniform, introduces his girlfriend,   Kay Adams  Kay Adams  , to his family at the sprawling reception. Vito\\'s godson   Johnny Fontane  Johnny Fontane  , a popular singer, pleads for help in securing a coveted movie role, so Vito dispatches his   consigliere  consigliere  ,   Tom Hagen  Tom Hagen  , to Los Angeles to influence the abrasive studio head,   Jack Woltz  Jack Woltz  . Woltz is unmoved until the morning he wakes up in bed with the severed head of his prized   stallion  stallion  .  \\n  Shortly before Christmas 1945, drug baron Virgil \"The Turk\" Sollozzo, backed by the Corleones\\' rivals, the Tattaglias, asks Vito for investment in the emerging drug trade and protection through his political connections. Vito disapproves of drug dealers, so he sends his enforcer, Luca Brasi, to spy on them. The family then receives two fish wrapped in Brasi\\'s vest, imparting that he \"sleeps with the fishes\". An assassination attempt by Sollozzo\\'s men lands Vito in the hospital, so his eldest son, Sonny, takes command. Sollozzo kidnaps Hagen to pressure Sonny to accept his deal. Michael thwarts a second assassination attempt on his father at the hospital; his jaw is broken by Police Captain McCluskey, who is also Sollozzo\\'s bodyguard. Sonny retaliates for the attacks on his father by having Tattaglia\\'s son killed. Michael comes up with a plan to hit Sollozzo and McCluskey: on the pretext of settling the dispute, Michael accepts their offer to meet in a Bronx restaurant and, retrieving a planted handgun, murders them.  Shortly before Christmas 1945, drug baron   Virgil \"The Turk\" Sollozzo  Virgil \"The Turk\" Sollozzo  , backed by the Corleones\\' rivals, the Tattaglias, asks Vito for investment in the emerging drug trade and protection through his political connections. Vito disapproves of drug dealers, so he sends his enforcer,   Luca Brasi  Luca Brasi  , to spy on them. The family then receives two fish wrapped in Brasi\\'s vest, imparting that he \"sleeps with the fishes\". An assassination attempt by Sollozzo\\'s men lands Vito in the hospital, so his eldest son,   Sonny  Sonny  , takes command. Sollozzo kidnaps Hagen to pressure Sonny to accept his deal. Michael thwarts a second assassination attempt on his father at the hospital; his jaw is broken by Police Captain McCluskey, who is also Sollozzo\\'s bodyguard. Sonny retaliates for the attacks on his father by having Tattaglia\\'s son killed. Michael comes up with a plan to hit Sollozzo and McCluskey: on the pretext of settling the dispute, Michael accepts their offer to meet in a Bronx restaurant and, retrieving a planted handgun, murders them.  \\n  Despite a clampdown from the authorities, the Five Families erupt in open warfare and the brothers fear for their safety. Michael takes refuge in Sicily, and Fredo Corleone is sheltered by associate Moe Greene in Las Vegas. Sonny attacks his brother-in-law Carlo on the street for abusing his sister Connie and threatens to kill him if he abuses her again. When it happens again, Sonny speeds for her home but assassins ambush him at a highway toll booth and riddle him with submachine gun fire. Michael\\'s time abroad has led to marriage to Apollonia Vitelli. Their euphoria is shattered when a car bomb intended for him takes her life.  Despite a clampdown from the authorities, the   Five Families  Five Families   erupt in open warfare and the brothers fear for their safety. Michael takes refuge in Sicily, and   Fredo Corleone  Fredo Corleone   is sheltered by associate   Moe Greene  Moe Greene   in   Las Vegas  Las Vegas  . Sonny attacks his brother-in-law   Carlo  Carlo   on the street for abusing his sister Connie and threatens to kill him if he abuses her again. When it happens again, Sonny speeds for her home but assassins ambush him at a highway toll booth and riddle him with submachine gun fire. Michael\\'s time abroad has led to marriage to Apollonia Vitelli. Their euphoria is shattered when a car bomb intended for him takes her life.  \\n  Devastated by Sonny\\'s death, Vito decides to end the feuds. Realising that the Tattaglias were under orders of the now dominant Don Emilio Barzini, he promises, before the heads of the Five Families, to withdraw his opposition to their heroin business and forgo revenge for his son\\'s murder. His safety guaranteed, Michael returns home to a father saddened by his involvement in the family business and marries Kay the next year.  Devastated by Sonny\\'s death, Vito decides to end the feuds. Realising that the Tattaglias were under orders of the now dominant Don   Emilio Barzini  Emilio Barzini  , he promises, before the heads of the Five Families, to withdraw his opposition to their heroin business and forgo revenge for his son\\'s murder. His safety guaranteed, Michael returns home to a father saddened by his involvement in the family business and marries Kay the next year.  \\n  With his father at the end of his career and his surviving brother too weak, Michael takes the reins of the family, promising Kay that he will make the business legitimate within five years. To that end, he insists Hagen relocate to Las Vegas and relinquish his role to Vito because Tom is not a \"wartime consigliere\"; the older man agrees Tom should \"have no part in what will happen\" in the coming battles with rival families. When Michael travels to Las Vegas to buy out Greene\\'s stake in the family\\'s casinos, Greene derides the Corleones as a fading power. To add injury to insult, Michael sees Fredo falling under Greene\\'s sway.  With his father at the end of his career and his surviving brother too weak, Michael takes the reins of the family, promising Kay that he will make the business legitimate within five years. To that end, he insists Hagen relocate to Las Vegas and relinquish his role to Vito because Tom is not a \"wartime consigliere\"; the older man agrees Tom should \"have no part in what will happen\" in the coming battles with rival families. When Michael travels to Las Vegas to buy out Greene\\'s stake in the family\\'s casinos, Greene derides the Corleones as a fading power. To add injury to insult, Michael sees Fredo falling under Greene\\'s sway.  \\n  Vito collapses and dies in his garden while playing with Michael\\'s son, Anthony. At the funeral, Salvatore Tessio arranges a meeting between Michael and Don Barzini, signalling his treachery as Vito had warned. The meeting is set for the same day as the christening of Connie\\'s son, to whom Michael will stand as godfather. As the christening proceeds, Corleone assassins, acting on Michael\\'s orders, murder the other New York dons and Moe Greene. Tessio is told that Michael is aware of his betrayal and taken off to his death. After Carlo is questioned by Michael on his involvement in setting up Sonny\\'s murder and confesses he was contacted by Barzini, Peter Clemenza kills him with a wire garrote. Michael is confronted by Connie, who accuses him of having her husband killed. He denies killing Carlo when questioned by Kay, an answer she accepts. As Kay watches warily, Michael receives his capos, who address him as the new Don Corleone.  Vito collapses and dies in his garden while playing with Michael\\'s son,   Anthony  Anthony  . At the funeral,   Salvatore Tessio  Salvatore Tessio   arranges a meeting between Michael and Don Barzini, signalling his treachery as Vito had warned. The meeting is set for the same day as the christening of Connie\\'s son, to whom Michael will stand as godfather. As the christening proceeds, Corleone assassins, acting on Michael\\'s orders, murder the other New York dons and Moe Greene. Tessio is told that Michael is aware of his betrayal and taken off to his death. After Carlo is questioned by Michael on his involvement in setting up Sonny\\'s murder and confesses he was contacted by Barzini,   Peter Clemenza  Peter Clemenza   kills him with a wire   garrote  garrote  . Michael is confronted by Connie, who accuses him of having her husband killed. He denies killing Carlo when questioned by Kay, an answer she accepts. As Kay watches warily, Michael receives his   capos  capos  , who address him as the new Don Corleone.  \\n \\n\\nIn late summer 1945, guests are gathered for the wedding reception of Don Vito Corleone\\'s daughter Connie (Talia Shire) and Carlo Rizzi (Gianni Russo). Vito (Marlon Brando), the head of the Corleone Mafia family, is known to friends and associates as \"Godfather.\" He and Tom Hagen (Robert Duvall), the Corleone family lawyer, are hearing requests for favors because, according to Italian tradition, \"no Sicilian can refuse a request on his daughter\\'s wedding day.\" One of the men who asks the Don for a favor is Amerigo Bonasera, a successful mortician and acquaintance of the Don, whose daughter was brutally beaten by two young men because she refused their advances; the men received minimal punishment. The Don is disappointed in Bonasera, who\\'d avoided most contact with the Don due to Corleone\\'s nefarious business dealings. The Don\\'s wife is godmother to Bonasera\\'s shamed daughter, a relationship the Don uses to extract new loyalty from the undertaker. The Don agrees to have his men punish the young men responsible.Meanwhile, the Don\\'s youngest son Michael (Al Pacino), a decorated Marine hero returning from World War II service, arrives at the wedding and tells his girlfriend Kay Adams (Diane Keaton) anecdotes about his family, informing her about his father\\'s criminal life; he reassures her that he is different from his family and doesn\\'t plan to join them in their criminal dealings. The wedding scene serves as critical exposition for the remainder of the film, as Michael introduces the main characters to Kay. Fredo (John Cazale), Michael\\'s next older brother, is a bit dim-witted and quite drunk by the time he finds Michael at the party. Sonny (James Caan), the Don\\'s eldest child and next in line to become Don upon his father\\'s retirement, is married but he is a hot-tempered philanderer who sneaks into a bedroom to have sex with one of Connie\\'s bridesmaids, Lucy Mancini (Jeannie Linero). Tom Hagen is not related to the family by blood but is considered one of the Don\\'s sons because he was homeless when he befriended Sonny in the Little Italy neighborhood of Manhattan and the Don took him in. Now a talented attorney, Tom is being groomed for the important position of consigliere (counselor) to the Don, despite his non-Sicilian heritage.Also among the guests at the celebration is the famous singer Johnny Fontane (Al Martino), Corleone\\'s godson, who has come from Hollywood to petition Vito\\'s help in landing a movie role that will revitalize his flagging career. Jack Woltz (John Marley), the head of the studio, denies Fontane the part (a character much like Johnny himself), which will make him an even bigger star, but Don Corleone explains to Johnny: \"I\\'m gonna make him an offer he can\\'t refuse.\" The Don also receives congratulatory salutations from Luca Brasi, a terrifying enforcer in the criminal underworld, and fills a request from the baker who made Connie\\'s wedding cake who wishes for his nephew Enzo to become an American citizen.After the wedding, Hagen is dispatched to Los Angeles to meet with Woltz, but Woltz angrily tells him that he will never cast Fontane in the role. Woltz holds a grudge because Fontane seduced and \"ruined\" a starlet who Woltz had been grooming for stardom and with whom he had a sexual relationship. Woltz is persuaded to give Johnny the role, however, when he wakes up early the next morning and feels something wet in his bed. He pulls back the sheets and finds himself in a pool of blood; he screams in horror when he discovers the severed head of his prized $600,000 stud horse, Khartoum, in the bed with him. (A deleted scene from the film implies that Luca Brasi (Lenny Montana), Vito\\'s top \"button man\" or hitman, is responsible.)Upon Hagen\\'s return, the family meets with Virgil \"The Turk\" Sollozzo (Al Lettieri), who is being backed by the rival Tattaglia family. He asks Don Corleone for financing as well as political and legal protection for importing and distributing heroin. Despite the huge profit to be made, Vito Corleone refuses, explaining that his political influence would be jeopardized by a move into the narcotics trade. The Don\\'s eldest son, Sonny, who had earlier urged the family to enter the narcotics trade, breaks ranks during the meeting and questions Sollozzo\\'s assurances as to the Corleone Family\\'s investment being guaranteed by the Tattaglia Family. His father, angry at Sonny\\'s dissension in a non-family member\\'s presence, privately rebukes him later. Don Corleone then dispatches Luca Brasi to infiltrate Sollozzo\\'s organization and report back with information. During the meeting, while Brasi is bent over to allow Bruno Tattaglia to light his cigarette, he is stabbed in the hand by Sollozzo, and is subsequently garroted by an assassin.Soon after his meeting with Sollozzo, Don Corleone is gunned down in an assassination attempt just outside his office, and it is not immediately known whether he has survived. Fredo Corleone had been assigned driving and protection duty for his father when Paulie Gatto, the Don\\'s usual bodyguard, had called in sick. Fredo proves to be ineffectual, fumbling with his gun and unable to shoot back. When Sonny hears about the Don being shot and Paulie\\'s absence, he orders Clemenza (Richard S. Castellano) to find Paulie and bring him to the Don\\'s house.Sollozzo abducts Tom Hagen and persuades him to offer Sonny the deal previously offered to his father. Enraged, Sonny refuses to consider it and issues an ultimatum to the Tattaglias: turn over Sollozzo or face a lengthy, bloody and costly (for both sides) gang war. They refuse, and instead send Sonny \"a Sicilian message,\" in the form of two fresh fish wrapped in Luca Brasi\\'s bullet-proof vest, to tell the Corleones that Luca Brasi \"sleeps with the fishes.\"Clemenza later takes Paulie and one of the family\\'s hitmen, Rocco Lampone, for a drive into Manhattan. Sonny wants to \"go to the mattresses\" -- set up beds in apartments for Corleone button men to operate out of in the event that the crime war breaks out. On their way back from Manhattan, Clemenza has Paulie stop the car in a remote area so he can urinate. Rocco shoots Paulie dead; he and Clemenza leave Paulie and the car behind.Michael, whom the other Mafia families consider a \"civilian\" uninvolved in mob business, visits his father at a small private hospital. He is shocked to find that no one is guarding him. Realizing that his father is again being set up to be killed, he calls Sonny for help, moves his father to another room, and goes outside to watch the entrance. Michael enlists help from Enzo the baker (Gabriele Torrei), who has come to the hospital to pay his respects. Together, they bluff away Sollozzo\\'s men as they drive by. Police cars soon appear bringing the corrupt Captain McCluskey (Sterling Hayden), who viciously punches Michael in the cheek and breaks his jaw when Michael insinuates that Sollozzo paid McCluskey to set up his father. Just then, Hagen arrives with \"private detectives\" licensed to carry guns to protect Don Corleone, and he takes the injured Michael home. Sonny responds by having Bruno Tattaglia (Tony Giorgio), the eldest son and underboss of Don Phillip Tattaglia (Victor Rendina), killed (off-camera).Following the attempt on the Don\\'s life at the hospital, Sollozzo requests a meeting with the Corleones, which Captain McCluskey will attend as Sollozzo\\'s bodyguard. When Michael volunteers to kill both men during the meeting, Sonny and the other senior Family members are amused; however, Michael convinces them that he is serious and that killing Sollozzo and McCluskey is in the family\\'s interest: \"It\\'s not personal. It\\'s strictly business.\" Because Michael is considered a civilian, he won\\'t be regarded as a suspicious ambassador for the Corleones. Although police officers are usually off limits for hits, Michael argues that since McCluskey is corrupt and has illegal dealings with Sollozzo, he is fair game. Michael also implies that newspaper reporters that the Corleones have on their payroll would delight in publishing stories about a corrupt police captain.Michael meets with Clemenza, one of his father\\'s caporegimes (captains), who prepares a small pistol for him, covering the trigger and grip with tape to prevent any fingerprint evidence. He instructs Michael about the proper way to perform the assassination and tells him to leave the gun behind. He also tells Michael that the family were all very proud of Michael for becoming a war hero during his service in the Marines. Clemenza shows great confidence that Michael can perform the job and tells him it will all go smoothly. The plan is to have the Corleone\\'s informers find out the location of the meeting and plant the revolver before Michael, Sollozzo and McCluskey arrive.Before the meeting in a small Italian restaurant, McCluskey frisks Michael for weapons and finds him clean. Michael excuses himself to go to the bathroom, where he retrieves the planted revolver. Returning to the table, he fatally shoots Sollozzo, then McCluskey. Michael is sent to hide in Sicily while the Corleone family prepares for all-out warfare with the Five Families (who are united against the Corleones) as well as a general clampdown on the mob by the police and government authorities. When the don returns home from the hospital, he is distraught to learn that it was Michael who killed Sollozzo and McCluskey.Meanwhile, Connie and Carlo\\'s marriage is disintegrating. They argue publicly over Carlo\\'s suspected infidelity and his possessive behavior toward Connie. By Italian tradition, nobody, not even a high-ranking Mafia don, can intervene in a married couple\\'s personal disputes, even if they involve infidelity, money, or domestic abuse. One day, Sonny sees a bruise on Connie\\'s face and she tells him that Carlo hit her after she asked him if he was having an affair. Sonny tracks down and severely beats up Carlo Rizzi in the middle of a crowded street for brutalizing the pregnant Connie, and threatens to kill Carlo if he ever abuses Connie again. An angry Carlo responds by plotting with Tattaglia and Don Emilio Barzini (Richard Conte), the Corleones\\' chief rivals, to have Sonny killed.Later, Carlo has one of his mistresses phone his house, knowing that Connie will answer. The woman asks Connie to tell Carlo not to meet her tonight. The very pregnant and distraught Connie assaults Carlo; he takes advantage of the altercation to beat Connie in order to lure Sonny out in the open and away from the Corleone compound. When Connie phones the compound to tell Sonny that Carlo has beaten her again, the furious Sonny drives off (alone and unescorted) to fulfill his threat against Carlo. On the way to Connie and Carlo\\'s house, Sonny is ambushed at a toll booth on the Long Island Causeway and violently shot to death by several carloads of hitmen wielding Thompson sub-machine guns.Tom Hagen relays the news of Sonny\\'s massacre to the Don, who calls in the favor from Bonasera to personally handle the embalming of Sonny\\'s body. Rather than seek revenge for Sonny\\'s killing, Don Corleone meets with the heads of the Five Families to negotiate a cease-fire. Not only is the conflict draining all their assets and threatening their survival, but ending it is the only way that Michael can return home safely. Reversing his previous decision, Vito agrees that the Corleone family will provide political protection for Tattaglia\\'s traffic in heroin, as long as it is controlled and not sold to children. At the meeting, Don Corleone deduces that Don Barzini, not Tattaglia, was ultimately behind the start of the mob war and Sonny\\'s death.In Sicily, Michael patiently waits out his exile, protected by Don Tommasino (Corrado Gaipa), an old family friend. Michael aimlessly wanders the countryside, accompanied by his ever-present bodyguards, Calo (Franco Citti) and Fabrizio (Angelo Infanti). In a small village, Michael meets and falls in love with Apollonia Vitelli (Simonetta Stefanelli), the beautiful young daughter of a bar owner. They court and marry in the traditional Sicilian fashion, but soon Michael\\'s presence becomes known to Corleone enemies. As the couple is about to be moved to a safer location, Apollonia is killed as a result of a rigged car (originally intended for Michael), exploding on ignition; Michael, who watched the car blow up, spots Fabrizio hurriedly leaving the grounds seconds before the explosion, implicating him in the assassination plot. (In a deleted scene, Fabrizio is found years later and killed.)With his safety guaranteed, Michael returns home. More than a year later, in 1950, he reunites with his former girlfriend Kay after a total of four years of separation -- three in Italy and one in America. He tells her he wants them to be married. Although Kay is hurt that he waited so long to contact her, she accepts his proposal. With Don Vito semi-retired, Sonny dead, and middle brother Fredo considered incapable of running the family business, Michael is now in charge; he promises Kay he will make the family business completely legitimate within five years.Two years later, Clemenza and Salvatore Tessio (Abe Vigoda), complain that they are being pushed around by the Barzini Family and ask permission to strike back, but Michael denies the request. He plans to move the family operations to Nevada and after that, Clemenza and Tessio may break away to form their own families. Michael further promises Connie\\'s husband, Carlo, that he will be his right hand man in Nevada (Carlo had grown up there), unaware of his part in Sonny\\'s assassination. Tom Hagen has been removed as consigliere and is now merely the family\\'s lawyer, with Vito serving as consigliere. Privately, Hagen inquires about his change in status, and also questions Michael about a new regime of \"soldiers\" secretly being built under Rocco Lampone (Tom Rosqui). Don Vito explains to Hagen that Michael is acting on his advice.Another year or so later, Michael travels to Las Vegas and meets with Moe Greene (Alex Rocco), a rich and shrewd casino boss looking to expand his business dealings. After the Don\\'s attempted assassination, Fredo had been sent to Las Vegas to learn about the casino business from Greene. Michael arrogantly offers to buy out Greene but is rudely rebuffed. Greene believes the Corleones are weak and that he can secure a better deal from Barzini. As Moe and Michael heatedly negotiate, Fredo sides with Moe. Afterward, Michael warns Fredo to never again \"take sides with anyone against the family.\"Michael returns home. In a private moment, Vito explains his expectation that the Family\\'s enemies will attempt to murder Michael by using a trusted associate to arrange a meeting as a pretext for assassination. Vito also reveals that he had never really intended a life of crime for Michael, hoping that his youngest son would hold legitimate power as a senator or governor. Some months later, Vito collapses and dies while playing with his young grandson Anthony (Anthony Gounaris) in his tomato garden. At the burial, Tessio conveys a proposal for a meeting with Barzini, which identifies Tessio as the traitor that Vito was expecting.Michael arranges for a series of murders to occur simultaneously while he is standing godfather to Connie\\'s and Carlo\\'s newborn son at the church:Don Stracci (Don Costello) is gunned down along with his bodyguard in a hotel elevator by a shotgun-wielding Clemenza.Moe Greene is killed while having a massage, shot through the eye by an unidentified assassin.Don Cuneo (Rudy Bond) is trapped in a revolving door at the St. Regis Hotel and shot dead by soldier Willi Cicci (Joe Spinell).Don Tattaglia is assassinated in his bed, along with a prostitute, by Rocco Lampone and an unknown associate.Don Barzini is killed on the steps of his office building along with his bodyguard and driver, shot by Al Neri (Richard Bright), disguised in his old police uniform.After the baptism, Tessio believes he and Hagen are on their way to the meeting between Michael and Barzini that he has arranged. Instead, he is surrounded by Willi Cicci and other button men as Hagen steps away. Realizing that Michael has uncovered his betrayal, Tessio tells Hagen that he always respected Michael, and that his disloyalty \"was only business.\" He asks if Tom can get him off for \"old times\\' sake,\" but Tom says he cannot. Tessio is driven away and never seen again (it is implied that Cicci shoots and kills Tessio with his own gun after he disarms him prior to entering the car).Meanwhile, Michael confronts Carlo about Sonny\\'s murder and forces him to admit his role in setting up the ambush, having been approached by Barzini himself. (The hitmen who killed Sonny were the core members of Barzini\\'s personal bodyguard.) Michael assures Carlo he will not be killed, but his punishment is exclusion from all family business. He hands Carlo a plane ticket to exile in Las Vegas. However, when Carlo gets into a car headed for the airport, he is immediately garroted to death by Clemenza, on Michael\\'s orders.Later, a hysterical Connie confronts Michael at the Corleone compound as movers carry away the furniture in preparation for the family move to Nevada. She accuses him of murdering Carlo in retribution for Carlo\\'s brutal treatment of her and for Carlo\\'s suspected involvement in Sonny\\'s murder. After Connie is removed from the house, Kay questions Michael about Connie\\'s accusation, but he refuses to answer, reminding her to never ask him about his business or what he does for a living. She insists, and Michael outright lies, reassuring his wife that he played no role in Carlo\\'s death. Kay believes him and is relieved. The film ends with Clemenza and new caporegimes Rocco Lampone and Al Neri arriving and paying their respects to Michael. Clemenza kisses Michael\\'s hand and greets him as \"Don Corleone.\" As Kay watches, the office door is closed.\\n\\n'"
      ]
     },
     "execution_count": 77,
     "metadata": {},
     "output_type": "execute_result"
    }
   ],
   "source": [
    "sinopsis_totales[0]"
   ]
  },
  {
   "cell_type": "markdown",
   "metadata": {},
   "source": [
    "### Preprocesamiento"
   ]
  },
  {
   "cell_type": "markdown",
   "metadata": {},
   "source": [
    "En esta sección se eliminan las palabras más comunes que no aportan mayor valor al texto de sinopsis de cada película. Para esto usamos la librería `nltk` y la funcion `stopwords`"
   ]
  },
  {
   "cell_type": "code",
   "execution_count": 78,
   "metadata": {
    "scrolled": true
   },
   "outputs": [
    {
     "data": {
      "text/plain": [
       "['i', 'me', 'my', 'myself', 'we', 'our', 'ours', 'ourselves', 'you', \"you're\"]"
      ]
     },
     "execution_count": 78,
     "metadata": {},
     "output_type": "execute_result"
    }
   ],
   "source": [
    "#Definimos una lista de stopwords : Palabras comunes en el idioma ingles que no cuentan con mucho significado relevante para el analisis\n",
    "# Tambien podemos obtener las stopwords en idioma español modificando el parámetro, pero para este caso no es necesario debido a que toda la data a procesar se encuentra en idioma ingles\n",
    "stopwords = nltk.corpus.stopwords.words('english')\n",
    "stopwords[:10]"
   ]
  },
  {
   "cell_type": "code",
   "execution_count": 79,
   "metadata": {},
   "outputs": [
    {
     "data": {
      "text/plain": [
       "179"
      ]
     },
     "execution_count": 79,
     "metadata": {},
     "output_type": "execute_result"
    }
   ],
   "source": [
    "len(stopwords)"
   ]
  },
  {
   "cell_type": "code",
   "execution_count": 80,
   "metadata": {},
   "outputs": [],
   "source": [
    "#Stemmer me permite obtener la raiz de una palabra, quitando conjugaciones para agrupar las palabras de acuerdo a su raiz \n",
    "from nltk.stem.snowball import SnowballStemmer\n",
    "\n",
    "stemmer = SnowballStemmer(\"english\")"
   ]
  },
  {
   "cell_type": "code",
   "execution_count": 81,
   "metadata": {},
   "outputs": [],
   "source": [
    "def tokenizar(texto):\n",
    "    tokens = nltk.word_tokenize(texto)\n",
    "    #tokens = [word.lower() for sent in nltk.sent_tokenize(texto) for word in nltk.word_tokenize(sent)]\n",
    "\n",
    "    #solo nos quedamos con los tokens que contengan letras en mayúsculas o minúsculas\n",
    "    filtro_tokens = []\n",
    "    for token in tokens:\n",
    "        if re.search('[a-zA-Z]', token):\n",
    "            filtro_tokens.append(token)\n",
    "    \n",
    "    #filtro_tokens=[token for token in filtro_tokens if token not in stopwords] # nos quedamos con las palabras que nos sean stopwords\n",
    "    \n",
    "    return filtro_tokens    "
   ]
  },
  {
   "cell_type": "code",
   "execution_count": 82,
   "metadata": {},
   "outputs": [],
   "source": [
    "def stemming(lista_tokens):\n",
    "    stems = [stemmer.stem(token) for token in lista_tokens]\n",
    "    return stems"
   ]
  },
  {
   "cell_type": "markdown",
   "metadata": {},
   "source": [
    "Genero los vectores de palabras para cada sinopsis"
   ]
  },
  {
   "cell_type": "code",
   "execution_count": 83,
   "metadata": {},
   "outputs": [],
   "source": [
    "vocabulario_stemmed = []\n",
    "vocabulario_tokenizado = []\n",
    "\n",
    "for sinopsis in sinopsis_totales:\n",
    "    tokens = tokenizar(sinopsis)\n",
    "    tokens_stemmed = stemming(tokens)\n",
    "    \n",
    "    vocabulario_tokenizado.extend(tokens)\n",
    "    vocabulario_stemmed.extend(tokens_stemmed)"
   ]
  },
  {
   "cell_type": "code",
   "execution_count": 84,
   "metadata": {},
   "outputs": [
    {
     "data": {
      "text/html": [
       "<div>\n",
       "<style scoped>\n",
       "    .dataframe tbody tr th:only-of-type {\n",
       "        vertical-align: middle;\n",
       "    }\n",
       "\n",
       "    .dataframe tbody tr th {\n",
       "        vertical-align: top;\n",
       "    }\n",
       "\n",
       "    .dataframe thead th {\n",
       "        text-align: right;\n",
       "    }\n",
       "</style>\n",
       "<table border=\"1\" class=\"dataframe\">\n",
       "  <thead>\n",
       "    <tr style=\"text-align: right;\">\n",
       "      <th></th>\n",
       "      <th>words</th>\n",
       "      <th>stem</th>\n",
       "    </tr>\n",
       "  </thead>\n",
       "  <tbody>\n",
       "    <tr>\n",
       "      <th>0</th>\n",
       "      <td>Plot</td>\n",
       "      <td>plot</td>\n",
       "    </tr>\n",
       "    <tr>\n",
       "      <th>1</th>\n",
       "      <td>edit</td>\n",
       "      <td>edit</td>\n",
       "    </tr>\n",
       "    <tr>\n",
       "      <th>2</th>\n",
       "      <td>edit</td>\n",
       "      <td>edit</td>\n",
       "    </tr>\n",
       "    <tr>\n",
       "      <th>3</th>\n",
       "      <td>edit</td>\n",
       "      <td>edit</td>\n",
       "    </tr>\n",
       "    <tr>\n",
       "      <th>4</th>\n",
       "      <td>On</td>\n",
       "      <td>on</td>\n",
       "    </tr>\n",
       "  </tbody>\n",
       "</table>\n",
       "</div>"
      ],
      "text/plain": [
       "  words  stem\n",
       "0  Plot  plot\n",
       "1  edit  edit\n",
       "2  edit  edit\n",
       "3  edit  edit\n",
       "4    On    on"
      ]
     },
     "execution_count": 84,
     "metadata": {},
     "output_type": "execute_result"
    }
   ],
   "source": [
    "vocabulario = pandas.DataFrame({'words': vocabulario_tokenizado, 'stem': vocabulario_stemmed})\n",
    "vocabulario.head()"
   ]
  },
  {
   "cell_type": "code",
   "execution_count": 85,
   "metadata": {},
   "outputs": [
    {
     "data": {
      "text/html": [
       "<div>\n",
       "<style scoped>\n",
       "    .dataframe tbody tr th:only-of-type {\n",
       "        vertical-align: middle;\n",
       "    }\n",
       "\n",
       "    .dataframe tbody tr th {\n",
       "        vertical-align: top;\n",
       "    }\n",
       "\n",
       "    .dataframe thead th {\n",
       "        text-align: right;\n",
       "    }\n",
       "</style>\n",
       "<table border=\"1\" class=\"dataframe\">\n",
       "  <thead>\n",
       "    <tr style=\"text-align: right;\">\n",
       "      <th></th>\n",
       "      <th>words</th>\n",
       "      <th>stem</th>\n",
       "    </tr>\n",
       "  </thead>\n",
       "  <tbody>\n",
       "    <tr>\n",
       "      <th>359</th>\n",
       "      <td>killed</td>\n",
       "      <td>kill</td>\n",
       "    </tr>\n",
       "    <tr>\n",
       "      <th>535</th>\n",
       "      <td>killed</td>\n",
       "      <td>kill</td>\n",
       "    </tr>\n",
       "    <tr>\n",
       "      <th>624</th>\n",
       "      <td>kill</td>\n",
       "      <td>kill</td>\n",
       "    </tr>\n",
       "    <tr>\n",
       "      <th>743</th>\n",
       "      <td>kill</td>\n",
       "      <td>kill</td>\n",
       "    </tr>\n",
       "    <tr>\n",
       "      <th>1294</th>\n",
       "      <td>kills</td>\n",
       "      <td>kill</td>\n",
       "    </tr>\n",
       "    <tr>\n",
       "      <th>...</th>\n",
       "      <td>...</td>\n",
       "      <td>...</td>\n",
       "    </tr>\n",
       "    <tr>\n",
       "      <th>307880</th>\n",
       "      <td>kill</td>\n",
       "      <td>kill</td>\n",
       "    </tr>\n",
       "    <tr>\n",
       "      <th>308187</th>\n",
       "      <td>killed</td>\n",
       "      <td>kill</td>\n",
       "    </tr>\n",
       "    <tr>\n",
       "      <th>308384</th>\n",
       "      <td>killed</td>\n",
       "      <td>kill</td>\n",
       "    </tr>\n",
       "    <tr>\n",
       "      <th>309686</th>\n",
       "      <td>killing</td>\n",
       "      <td>kill</td>\n",
       "    </tr>\n",
       "    <tr>\n",
       "      <th>310182</th>\n",
       "      <td>killer</td>\n",
       "      <td>killer</td>\n",
       "    </tr>\n",
       "  </tbody>\n",
       "</table>\n",
       "<p>705 rows × 2 columns</p>\n",
       "</div>"
      ],
      "text/plain": [
       "          words    stem\n",
       "359      killed    kill\n",
       "535      killed    kill\n",
       "624        kill    kill\n",
       "743        kill    kill\n",
       "1294      kills    kill\n",
       "...         ...     ...\n",
       "307880     kill    kill\n",
       "308187   killed    kill\n",
       "308384   killed    kill\n",
       "309686  killing    kill\n",
       "310182   killer  killer\n",
       "\n",
       "[705 rows x 2 columns]"
      ]
     },
     "execution_count": 85,
     "metadata": {},
     "output_type": "execute_result"
    }
   ],
   "source": [
    "vocabulario.loc[vocabulario['words'].str.contains('kill')]"
   ]
  },
  {
   "cell_type": "code",
   "execution_count": 86,
   "metadata": {},
   "outputs": [
    {
     "data": {
      "text/html": [
       "<div>\n",
       "<style scoped>\n",
       "    .dataframe tbody tr th:only-of-type {\n",
       "        vertical-align: middle;\n",
       "    }\n",
       "\n",
       "    .dataframe tbody tr th {\n",
       "        vertical-align: top;\n",
       "    }\n",
       "\n",
       "    .dataframe thead th {\n",
       "        text-align: right;\n",
       "    }\n",
       "</style>\n",
       "<table border=\"1\" class=\"dataframe\">\n",
       "  <thead>\n",
       "    <tr style=\"text-align: right;\">\n",
       "      <th></th>\n",
       "      <th>words</th>\n",
       "      <th>stem</th>\n",
       "    </tr>\n",
       "  </thead>\n",
       "  <tbody>\n",
       "    <tr>\n",
       "      <th>359</th>\n",
       "      <td>killed</td>\n",
       "      <td>kill</td>\n",
       "    </tr>\n",
       "  </tbody>\n",
       "</table>\n",
       "</div>"
      ],
      "text/plain": [
       "      words  stem\n",
       "359  killed  kill"
      ]
     },
     "execution_count": 86,
     "metadata": {},
     "output_type": "execute_result"
    }
   ],
   "source": [
    "vocabulario = vocabulario.drop_duplicates('stem')\n",
    "vocabulario.query(\"stem == 'kill'\")"
   ]
  },
  {
   "cell_type": "code",
   "execution_count": 87,
   "metadata": {},
   "outputs": [
    {
     "data": {
      "text/plain": [
       "words    killed\n",
       "Name: kill, dtype: object"
      ]
     },
     "execution_count": 87,
     "metadata": {},
     "output_type": "execute_result"
    }
   ],
   "source": [
    "vocabulario = vocabulario.set_index('stem')\n",
    "vocabulario.loc['kill']"
   ]
  },
  {
   "cell_type": "code",
   "execution_count": 88,
   "metadata": {},
   "outputs": [
    {
     "data": {
      "text/html": [
       "<div>\n",
       "<style scoped>\n",
       "    .dataframe tbody tr th:only-of-type {\n",
       "        vertical-align: middle;\n",
       "    }\n",
       "\n",
       "    .dataframe tbody tr th {\n",
       "        vertical-align: top;\n",
       "    }\n",
       "\n",
       "    .dataframe thead th {\n",
       "        text-align: right;\n",
       "    }\n",
       "</style>\n",
       "<table border=\"1\" class=\"dataframe\">\n",
       "  <thead>\n",
       "    <tr style=\"text-align: right;\">\n",
       "      <th></th>\n",
       "      <th>words</th>\n",
       "    </tr>\n",
       "    <tr>\n",
       "      <th>stem</th>\n",
       "      <th></th>\n",
       "    </tr>\n",
       "  </thead>\n",
       "  <tbody>\n",
       "    <tr>\n",
       "      <th>plot</th>\n",
       "      <td>Plot</td>\n",
       "    </tr>\n",
       "    <tr>\n",
       "      <th>edit</th>\n",
       "      <td>edit</td>\n",
       "    </tr>\n",
       "    <tr>\n",
       "      <th>on</th>\n",
       "      <td>On</td>\n",
       "    </tr>\n",
       "    <tr>\n",
       "      <th>the</th>\n",
       "      <td>the</td>\n",
       "    </tr>\n",
       "    <tr>\n",
       "      <th>day</th>\n",
       "      <td>day</td>\n",
       "    </tr>\n",
       "  </tbody>\n",
       "</table>\n",
       "</div>"
      ],
      "text/plain": [
       "     words\n",
       "stem      \n",
       "plot  Plot\n",
       "edit  edit\n",
       "on      On\n",
       "the    the\n",
       "day    day"
      ]
     },
     "execution_count": 88,
     "metadata": {},
     "output_type": "execute_result"
    }
   ],
   "source": [
    "vocabulario.head()"
   ]
  },
  {
   "cell_type": "code",
   "execution_count": 89,
   "metadata": {
    "scrolled": true
   },
   "outputs": [
    {
     "data": {
      "text/plain": [
       "(12469, 1)"
      ]
     },
     "execution_count": 89,
     "metadata": {},
     "output_type": "execute_result"
    }
   ],
   "source": [
    "vocabulario.shape"
   ]
  },
  {
   "cell_type": "code",
   "execution_count": 90,
   "metadata": {},
   "outputs": [],
   "source": [
    "def tokenizar_y_stemming(texto):\n",
    "\n",
    "    tokens = tokenizar(texto)\n",
    "    tokens_stemmed = stemming(tokens)\n",
    "    \n",
    "    return tokens_stemmed"
   ]
  },
  {
   "cell_type": "markdown",
   "metadata": {},
   "source": [
    "### Vector de Características: TF-iDF"
   ]
  },
  {
   "cell_type": "code",
   "execution_count": 42,
   "metadata": {},
   "outputs": [],
   "source": [
    "from sklearn.feature_extraction.text import TfidfVectorizer"
   ]
  },
  {
   "cell_type": "markdown",
   "metadata": {},
   "source": [
    "Documentación: https://scikit-learn.org/stable/modules/generated/sklearn.feature_extraction.text.TfidfVectorizer.html"
   ]
  },
  {
   "cell_type": "markdown",
   "metadata": {},
   "source": [
    "Parámetros:\n",
    "\n",
    "`max_df`: máxima frecuencia utilizada. si el token aparece en más del 80% del documento probablemente no tenga mucho significado\n",
    "\n",
    "`min_idf`: cantidad mínima de documentos en los que debe aparecer el token para ser considerado. En este caso 0.2 es un porcentaje de documentos pero también se puede utilizar una cantidad absoluta (5, 10 documentos)\n",
    "\n",
    "`ngram_range`: nos permite controlar la longitud de los ngrams permitidos"
   ]
  },
  {
   "cell_type": "code",
   "execution_count": 91,
   "metadata": {
    "scrolled": true
   },
   "outputs": [
    {
     "name": "stdout",
     "output_type": "stream",
     "text": [
      "(100, 563)\n"
     ]
    }
   ],
   "source": [
    "tfidf_vectorizer = TfidfVectorizer(max_df=0.8, max_features=200000,\n",
    "                                 min_df=0.2, stop_words='english',\n",
    "                                 use_idf=True, tokenizer=tokenizar_y_stemming, ngram_range=(1,3))\n",
    "\n",
    "tfidf_matrix = tfidf_vectorizer.fit_transform(sinopsis_totales)\n",
    "print(tfidf_matrix.shape)"
   ]
  },
  {
   "cell_type": "code",
   "execution_count": 92,
   "metadata": {},
   "outputs": [
    {
     "data": {
      "text/plain": [
       "563"
      ]
     },
     "execution_count": 92,
     "metadata": {},
     "output_type": "execute_result"
    }
   ],
   "source": [
    "terms = tfidf_vectorizer.get_feature_names()\n",
    "len(terms)"
   ]
  },
  {
   "cell_type": "code",
   "execution_count": 93,
   "metadata": {
    "scrolled": true
   },
   "outputs": [
    {
     "data": {
      "text/plain": [
       "[\"'d\",\n",
       " \"'s death\",\n",
       " \"'s father\",\n",
       " \"'s friend\",\n",
       " \"'s hous\",\n",
       " \"'s mother\",\n",
       " 'abandon',\n",
       " 'abl',\n",
       " 'accept',\n",
       " 'accid',\n",
       " 'accompani',\n",
       " 'accus',\n",
       " 'act',\n",
       " 'action',\n",
       " 'actual',\n",
       " 'admit',\n",
       " 'afterward',\n",
       " 'ago',\n",
       " 'agre',\n",
       " 'air',\n",
       " 'aliv',\n",
       " 'allow',\n",
       " 'alon',\n",
       " 'alreadi',\n",
       " 'alway',\n",
       " 'american',\n",
       " 'angri',\n",
       " 'angrili',\n",
       " 'ani',\n",
       " 'announc',\n",
       " 'anoth',\n",
       " 'answer',\n",
       " 'anyon',\n",
       " 'anyth',\n",
       " 'apart',\n",
       " 'appar',\n",
       " 'appear',\n",
       " 'approach',\n",
       " 'area',\n",
       " 'argu',\n",
       " 'arm',\n",
       " 'armi',\n",
       " 'arrang',\n",
       " 'arrest',\n",
       " 'arriv',\n",
       " 'ask',\n",
       " 'assign',\n",
       " 'assist',\n",
       " 'assum',\n",
       " 'attack',\n",
       " 'attempt',\n",
       " 'attend',\n",
       " 'attent',\n",
       " 'attract',\n",
       " 'audienc',\n",
       " 'avoid',\n",
       " 'away',\n",
       " 'bad',\n",
       " 'bar',\n",
       " 'bare',\n",
       " 'battl',\n",
       " 'beat',\n",
       " 'becaus',\n",
       " 'becom',\n",
       " 'bed',\n",
       " 'beg',\n",
       " 'believ',\n",
       " 'best',\n",
       " 'better',\n",
       " 'big',\n",
       " 'black',\n",
       " 'blow',\n",
       " 'board',\n",
       " 'bodi',\n",
       " 'book',\n",
       " 'boss',\n",
       " 'boy',\n",
       " 'break',\n",
       " 'brief',\n",
       " 'bring',\n",
       " 'broken',\n",
       " 'brother',\n",
       " 'build',\n",
       " 'burn',\n",
       " 'busi',\n",
       " 'buy',\n",
       " 'ca',\n",
       " \"ca n't\",\n",
       " 'camp',\n",
       " 'captain',\n",
       " 'captur',\n",
       " 'car',\n",
       " 'care',\n",
       " 'career',\n",
       " 'carri',\n",
       " 'case',\n",
       " 'catch',\n",
       " 'caus',\n",
       " 'chanc',\n",
       " 'chang',\n",
       " 'charg',\n",
       " 'chase',\n",
       " 'child',\n",
       " 'children',\n",
       " 'citi',\n",
       " 'claim',\n",
       " 'clear',\n",
       " 'climb',\n",
       " 'close',\n",
       " 'cloth',\n",
       " 'club',\n",
       " 'cold',\n",
       " 'collaps',\n",
       " 'come',\n",
       " 'command',\n",
       " 'commit',\n",
       " 'compani',\n",
       " 'complet',\n",
       " 'concern',\n",
       " 'condit',\n",
       " 'confess',\n",
       " 'confid',\n",
       " 'confront',\n",
       " 'consid',\n",
       " 'continu',\n",
       " 'control',\n",
       " 'convers',\n",
       " 'convinc',\n",
       " 'countri',\n",
       " 'coupl',\n",
       " 'cover',\n",
       " 'cri',\n",
       " 'crime',\n",
       " 'crimin',\n",
       " 'cross',\n",
       " 'crowd',\n",
       " 'cut',\n",
       " 'danc',\n",
       " 'danger',\n",
       " 'dark',\n",
       " 'date',\n",
       " 'daughter',\n",
       " 'day',\n",
       " 'dead',\n",
       " 'deal',\n",
       " 'death',\n",
       " 'decid',\n",
       " 'declar',\n",
       " 'defend',\n",
       " 'deliv',\n",
       " 'demand',\n",
       " 'depart',\n",
       " 'desert',\n",
       " 'desper',\n",
       " 'despit',\n",
       " 'destroy',\n",
       " 'determin',\n",
       " 'develop',\n",
       " 'did',\n",
       " \"did n't\",\n",
       " 'die',\n",
       " 'differ',\n",
       " 'dinner',\n",
       " 'direct',\n",
       " 'discov',\n",
       " 'discuss',\n",
       " 'doctor',\n",
       " 'doe',\n",
       " \"doe n't\",\n",
       " 'door',\n",
       " 'draw',\n",
       " 'dress',\n",
       " 'drink',\n",
       " 'drive',\n",
       " 'drop',\n",
       " 'drunk',\n",
       " 'dure',\n",
       " 'earli',\n",
       " 'earlier',\n",
       " 'elder',\n",
       " 'emerg',\n",
       " 'empti',\n",
       " 'encount',\n",
       " 'end',\n",
       " 'engag',\n",
       " 'ensu',\n",
       " 'enter',\n",
       " 'entir',\n",
       " 'escap',\n",
       " 'escort',\n",
       " 'event',\n",
       " 'eventu',\n",
       " 'everi',\n",
       " 'everyon',\n",
       " 'everyth',\n",
       " 'evid',\n",
       " 'execut',\n",
       " 'expect',\n",
       " 'experi',\n",
       " 'explain',\n",
       " 'eye',\n",
       " 'face',\n",
       " 'fact',\n",
       " 'fail',\n",
       " 'fall',\n",
       " 'famili',\n",
       " 'far',\n",
       " 'father',\n",
       " \"father 's\",\n",
       " 'fear',\n",
       " 'feel',\n",
       " 'fellow',\n",
       " 'field',\n",
       " 'fight',\n",
       " 'figur',\n",
       " 'film',\n",
       " 'final',\n",
       " 'finish',\n",
       " 'flee',\n",
       " 'fli',\n",
       " 'floor',\n",
       " 'follow',\n",
       " 'forc',\n",
       " 'free',\n",
       " 'friend',\n",
       " 'futur',\n",
       " 'general',\n",
       " 'georg',\n",
       " 'girl',\n",
       " 'given',\n",
       " 'goe',\n",
       " 'gone',\n",
       " 'good',\n",
       " 'got',\n",
       " 'grab',\n",
       " 'great',\n",
       " 'group',\n",
       " 'grow',\n",
       " 'guard',\n",
       " 'gun',\n",
       " 'hand',\n",
       " 'hang',\n",
       " 'happen',\n",
       " 'happi',\n",
       " 'head',\n",
       " 'hear',\n",
       " 'heard',\n",
       " 'heart',\n",
       " 'help',\n",
       " 'hidden',\n",
       " 'hide',\n",
       " 'high',\n",
       " 'hire',\n",
       " 'hit',\n",
       " 'hold',\n",
       " 'home',\n",
       " 'hope',\n",
       " 'hospit',\n",
       " 'hour',\n",
       " 'hous',\n",
       " 'howev',\n",
       " 'huge',\n",
       " 'husband',\n",
       " 'idea',\n",
       " 'ii',\n",
       " 'immedi',\n",
       " 'includ',\n",
       " 'inform',\n",
       " 'initi',\n",
       " 'insid',\n",
       " 'insist',\n",
       " 'instead',\n",
       " 'instruct',\n",
       " 'insult',\n",
       " 'intend',\n",
       " 'intent',\n",
       " 'introduc',\n",
       " 'investig',\n",
       " 'invit',\n",
       " 'involv',\n",
       " 'jame',\n",
       " 'job',\n",
       " 'john',\n",
       " 'join',\n",
       " 'jump',\n",
       " 'just',\n",
       " 'kill',\n",
       " 'kiss',\n",
       " 'knock',\n",
       " 'know',\n",
       " 'known',\n",
       " 'land',\n",
       " 'larg',\n",
       " 'late',\n",
       " 'lead',\n",
       " 'learn',\n",
       " 'led',\n",
       " 'left',\n",
       " 'let',\n",
       " 'lie',\n",
       " 'life',\n",
       " 'light',\n",
       " 'like',\n",
       " 'line',\n",
       " 'listen',\n",
       " 'littl',\n",
       " 'live',\n",
       " 'll',\n",
       " 'local',\n",
       " 'long',\n",
       " 'look',\n",
       " 'lose',\n",
       " 'lost',\n",
       " 'love',\n",
       " 'main',\n",
       " 'manag',\n",
       " 'mani',\n",
       " 'marri',\n",
       " 'marriag',\n",
       " 'matter',\n",
       " 'mean',\n",
       " 'meanwhil',\n",
       " 'meet',\n",
       " 'member',\n",
       " 'men',\n",
       " 'mention',\n",
       " 'met',\n",
       " 'mind',\n",
       " 'miss',\n",
       " 'moment',\n",
       " 'money',\n",
       " 'month',\n",
       " 'morn',\n",
       " 'mother',\n",
       " 'movi',\n",
       " 'mr.',\n",
       " 'murder',\n",
       " 'music',\n",
       " \"n't\",\n",
       " 'near',\n",
       " 'nearbi',\n",
       " 'need',\n",
       " 'new',\n",
       " 'new york',\n",
       " 'news',\n",
       " 'night',\n",
       " 'note',\n",
       " 'noth',\n",
       " 'notic',\n",
       " 'number',\n",
       " 'object',\n",
       " 'observ',\n",
       " 'offer',\n",
       " 'offic',\n",
       " 'old',\n",
       " 'onc',\n",
       " 'open',\n",
       " 'order',\n",
       " 'outsid',\n",
       " 'pack',\n",
       " 'parent',\n",
       " 'parti',\n",
       " 'pass',\n",
       " 'past',\n",
       " 'pay',\n",
       " 'peopl',\n",
       " 'perform',\n",
       " 'person',\n",
       " 'persuad',\n",
       " 'phone',\n",
       " 'pick',\n",
       " 'pictur',\n",
       " 'place',\n",
       " 'plan',\n",
       " 'play',\n",
       " 'point',\n",
       " 'polic',\n",
       " 'posit',\n",
       " 'possibl',\n",
       " 'power',\n",
       " 'prepar',\n",
       " 'present',\n",
       " 'prevent',\n",
       " 'previous',\n",
       " 'prison',\n",
       " 'privat',\n",
       " 'problem',\n",
       " 'proceed',\n",
       " 'promis',\n",
       " 'propos',\n",
       " 'protect',\n",
       " 'prove',\n",
       " 'provid',\n",
       " 'public',\n",
       " 'pull',\n",
       " 'pursu',\n",
       " 'push',\n",
       " 'question',\n",
       " 'quick',\n",
       " 'quiet',\n",
       " 'reach',\n",
       " 'read',\n",
       " 'readi',\n",
       " 'real',\n",
       " 'realiz',\n",
       " 'realli',\n",
       " 'reason',\n",
       " 'receiv',\n",
       " 'recogn',\n",
       " 'record',\n",
       " 'recov',\n",
       " 'refus',\n",
       " 'relationship',\n",
       " 'releas',\n",
       " 'reluct',\n",
       " 'remain',\n",
       " 'rememb',\n",
       " 'remind',\n",
       " 'remov',\n",
       " 'repeat',\n",
       " 'repli',\n",
       " 'report',\n",
       " 'request',\n",
       " 'rescu',\n",
       " 'respons',\n",
       " 'rest',\n",
       " 'result',\n",
       " 'return home',\n",
       " 'reveal',\n",
       " 'ride',\n",
       " 'right',\n",
       " 'ring',\n",
       " 'robert',\n",
       " 'room',\n",
       " 'run',\n",
       " 'rush',\n",
       " 'save',\n",
       " 'say',\n",
       " 'scene',\n",
       " 'school',\n",
       " 'scream',\n",
       " 'search',\n",
       " 'second',\n",
       " 'secret',\n",
       " 'secur',\n",
       " 'seek',\n",
       " 'seen',\n",
       " 'send',\n",
       " 'sent',\n",
       " 'serv',\n",
       " 'servic',\n",
       " 'set',\n",
       " 'sever',\n",
       " 'share',\n",
       " 'ship',\n",
       " 'shock',\n",
       " 'shoot',\n",
       " 'short',\n",
       " 'shot',\n",
       " 'shout',\n",
       " 'sign',\n",
       " 'silent',\n",
       " 'sinc',\n",
       " 'sing',\n",
       " 'sister',\n",
       " 'sit',\n",
       " 'situat',\n",
       " 'sleep',\n",
       " 'slip',\n",
       " 'small',\n",
       " 'soldier',\n",
       " 'someon',\n",
       " 'someth',\n",
       " 'son',\n",
       " 'soon',\n",
       " 'speak',\n",
       " 'spend',\n",
       " 'spot',\n",
       " 'stand',\n",
       " 'start',\n",
       " 'state',\n",
       " 'station',\n",
       " 'stay',\n",
       " 'step',\n",
       " 'stop',\n",
       " 'stori',\n",
       " 'storm',\n",
       " 'street',\n",
       " 'strike',\n",
       " 'struggl',\n",
       " 'success',\n",
       " 'sudden',\n",
       " 'suffer',\n",
       " 'suggest',\n",
       " 'suicid',\n",
       " 'support',\n",
       " 'surpris',\n",
       " 'surround',\n",
       " 'surviv',\n",
       " 'suspect',\n",
       " 'taken',\n",
       " 'talk',\n",
       " 'tear',\n",
       " 'themselv',\n",
       " 'thing',\n",
       " 'think',\n",
       " 'thought',\n",
       " 'threaten',\n",
       " 'throw',\n",
       " 'togeth',\n",
       " 'told',\n",
       " 'took',\n",
       " 'town',\n",
       " 'train',\n",
       " 'travel',\n",
       " 'trip',\n",
       " 'troubl',\n",
       " 'turn',\n",
       " 'unabl',\n",
       " 'understand',\n",
       " 'unit',\n",
       " 'unit state',\n",
       " 'use',\n",
       " 've',\n",
       " 'veri',\n",
       " 'view',\n",
       " 'visit',\n",
       " 'voic',\n",
       " 'wait',\n",
       " 'walk',\n",
       " 'wall',\n",
       " 'want',\n",
       " 'war',\n",
       " 'warn',\n",
       " 'watch',\n",
       " 'water',\n",
       " 'way',\n",
       " 'wear',\n",
       " 'week',\n",
       " 'whi',\n",
       " 'white',\n",
       " 'wife',\n",
       " 'william',\n",
       " 'win',\n",
       " 'window',\n",
       " 'wish',\n",
       " 'wit',\n",
       " 'wo',\n",
       " \"wo n't\",\n",
       " 'woman',\n",
       " 'women',\n",
       " 'word',\n",
       " 'work',\n",
       " 'world',\n",
       " 'world war',\n",
       " 'worri',\n",
       " 'wound',\n",
       " 'write',\n",
       " 'wrong',\n",
       " 'year',\n",
       " 'york',\n",
       " 'young',\n",
       " 'young man']"
      ]
     },
     "execution_count": 93,
     "metadata": {},
     "output_type": "execute_result"
    }
   ],
   "source": [
    "terms"
   ]
  },
  {
   "cell_type": "markdown",
   "metadata": {},
   "source": [
    "La distancia coseno nos permite obtener una medida de similitud. Como queremos una medida de distancia la restamos de 1."
   ]
  },
  {
   "cell_type": "code",
   "execution_count": 94,
   "metadata": {},
   "outputs": [],
   "source": [
    "#Calcularemos una matriz de distancia aplicando la distancia coseno\n",
    "\n",
    "from sklearn.metrics.pairwise import cosine_similarity\n",
    "\n",
    "dist = 1 - cosine_similarity(tfidf_matrix)"
   ]
  },
  {
   "cell_type": "markdown",
   "metadata": {},
   "source": [
    "### K-Means"
   ]
  },
  {
   "cell_type": "code",
   "execution_count": 120,
   "metadata": {},
   "outputs": [],
   "source": [
    "from sklearn.cluster import KMeans\n",
    "\n",
    "\n",
    "km = KMeans(n_clusters= 5, random_state = 200)\n",
    "km.fit(tfidf_matrix)\n",
    "clusters = km.labels_.tolist()"
   ]
  },
  {
   "cell_type": "code",
   "execution_count": 121,
   "metadata": {
    "scrolled": true
   },
   "outputs": [
    {
     "data": {
      "text/html": [
       "<div>\n",
       "<style scoped>\n",
       "    .dataframe tbody tr th:only-of-type {\n",
       "        vertical-align: middle;\n",
       "    }\n",
       "\n",
       "    .dataframe tbody tr th {\n",
       "        vertical-align: top;\n",
       "    }\n",
       "\n",
       "    .dataframe thead th {\n",
       "        text-align: right;\n",
       "    }\n",
       "</style>\n",
       "<table border=\"1\" class=\"dataframe\">\n",
       "  <thead>\n",
       "    <tr style=\"text-align: right;\">\n",
       "      <th></th>\n",
       "      <th>ranking</th>\n",
       "      <th>titulo</th>\n",
       "      <th>sinopsis</th>\n",
       "      <th>cluster</th>\n",
       "    </tr>\n",
       "  </thead>\n",
       "  <tbody>\n",
       "    <tr>\n",
       "      <th>0</th>\n",
       "      <td>1</td>\n",
       "      <td>The Godfather</td>\n",
       "      <td>Plot  [edit]  [  [  edit  edit  ]  ]  \\n  On ...</td>\n",
       "      <td>4</td>\n",
       "    </tr>\n",
       "    <tr>\n",
       "      <th>1</th>\n",
       "      <td>2</td>\n",
       "      <td>The Shawshank Redemption</td>\n",
       "      <td>Plot  [edit]  [  [  edit  edit  ]  ]  \\n  In ...</td>\n",
       "      <td>3</td>\n",
       "    </tr>\n",
       "    <tr>\n",
       "      <th>2</th>\n",
       "      <td>3</td>\n",
       "      <td>Schindler's List</td>\n",
       "      <td>Plot  [edit]  [  [  edit  edit  ]  ]  \\n  In ...</td>\n",
       "      <td>3</td>\n",
       "    </tr>\n",
       "    <tr>\n",
       "      <th>3</th>\n",
       "      <td>4</td>\n",
       "      <td>Raging Bull</td>\n",
       "      <td>Plot  [edit]  [  [  edit  edit  ]  ]  \\n  In ...</td>\n",
       "      <td>4</td>\n",
       "    </tr>\n",
       "    <tr>\n",
       "      <th>4</th>\n",
       "      <td>5</td>\n",
       "      <td>Casablanca</td>\n",
       "      <td>Plot  [edit]  [  [  edit  edit  ]  ]  \\n  It ...</td>\n",
       "      <td>1</td>\n",
       "    </tr>\n",
       "  </tbody>\n",
       "</table>\n",
       "</div>"
      ],
      "text/plain": [
       "   ranking                    titulo  \\\n",
       "0        1             The Godfather   \n",
       "1        2  The Shawshank Redemption   \n",
       "2        3          Schindler's List   \n",
       "3        4               Raging Bull   \n",
       "4        5                Casablanca   \n",
       "\n",
       "                                            sinopsis  cluster  \n",
       "0   Plot  [edit]  [  [  edit  edit  ]  ]  \\n  On ...        4  \n",
       "1   Plot  [edit]  [  [  edit  edit  ]  ]  \\n  In ...        3  \n",
       "2   Plot  [edit]  [  [  edit  edit  ]  ]  \\n  In ...        3  \n",
       "3   Plot  [edit]  [  [  edit  edit  ]  ]  \\n  In ...        4  \n",
       "4   Plot  [edit]  [  [  edit  edit  ]  ]  \\n  It ...        1  "
      ]
     },
     "execution_count": 121,
     "metadata": {},
     "output_type": "execute_result"
    }
   ],
   "source": [
    "peliculas = {'ranking': range(1, 101), 'titulo': titulos, 'sinopsis': sinopsis_totales, 'cluster': clusters}\n",
    "df_peliculas = pandas.DataFrame(peliculas, columns = peliculas.keys())\n",
    "df_peliculas.head()"
   ]
  },
  {
   "cell_type": "code",
   "execution_count": 122,
   "metadata": {
    "scrolled": false
   },
   "outputs": [
    {
     "data": {
      "text/plain": [
       "4    34\n",
       "0    27\n",
       "3    19\n",
       "1    14\n",
       "2     6\n",
       "Name: cluster, dtype: int64"
      ]
     },
     "execution_count": 122,
     "metadata": {},
     "output_type": "execute_result"
    }
   ],
   "source": [
    "df_peliculas.cluster.value_counts()"
   ]
  },
  {
   "cell_type": "code",
   "execution_count": 123,
   "metadata": {
    "scrolled": false
   },
   "outputs": [
    {
     "data": {
      "text/html": [
       "<div>\n",
       "<style scoped>\n",
       "    .dataframe tbody tr th:only-of-type {\n",
       "        vertical-align: middle;\n",
       "    }\n",
       "\n",
       "    .dataframe tbody tr th {\n",
       "        vertical-align: top;\n",
       "    }\n",
       "\n",
       "    .dataframe thead th {\n",
       "        text-align: right;\n",
       "    }\n",
       "</style>\n",
       "<table border=\"1\" class=\"dataframe\">\n",
       "  <thead>\n",
       "    <tr style=\"text-align: right;\">\n",
       "      <th></th>\n",
       "      <th>ranking</th>\n",
       "    </tr>\n",
       "    <tr>\n",
       "      <th>cluster</th>\n",
       "      <th></th>\n",
       "    </tr>\n",
       "  </thead>\n",
       "  <tbody>\n",
       "    <tr>\n",
       "      <th>0</th>\n",
       "      <td>55.037037</td>\n",
       "    </tr>\n",
       "    <tr>\n",
       "      <th>1</th>\n",
       "      <td>38.214286</td>\n",
       "    </tr>\n",
       "    <tr>\n",
       "      <th>2</th>\n",
       "      <td>53.833333</td>\n",
       "    </tr>\n",
       "    <tr>\n",
       "      <th>3</th>\n",
       "      <td>45.684211</td>\n",
       "    </tr>\n",
       "    <tr>\n",
       "      <th>4</th>\n",
       "      <td>54.058824</td>\n",
       "    </tr>\n",
       "  </tbody>\n",
       "</table>\n",
       "</div>"
      ],
      "text/plain": [
       "           ranking\n",
       "cluster           \n",
       "0        55.037037\n",
       "1        38.214286\n",
       "2        53.833333\n",
       "3        45.684211\n",
       "4        54.058824"
      ]
     },
     "execution_count": 123,
     "metadata": {},
     "output_type": "execute_result"
    }
   ],
   "source": [
    "#El cluster con un promedio de ranking menor contiene a las mejores peliculas, recordando que el ranking inicia de forma ascendente (1..100), mientras menor numero en el ranking, mayor preferencia y gusto por los usuarios \n",
    "df_peliculas.groupby('cluster').mean()"
   ]
  },
  {
   "cell_type": "markdown",
   "metadata": {},
   "source": [
    "## Palabras clave por cluster"
   ]
  },
  {
   "cell_type": "markdown",
   "metadata": {},
   "source": [
    "Recordar que los features de cada sinopsis son las frecuencias de cada término (tf-idf). Vamos a extraer los tokens que tienen mayor frecuencia dentro de cada centroide obtenido"
   ]
  },
  {
   "cell_type": "code",
   "execution_count": 124,
   "metadata": {
    "scrolled": true
   },
   "outputs": [
    {
     "data": {
      "text/plain": [
       "array([[0.01236697, 0.01174403, 0.0202017 , ..., 0.0234829 , 0.04454021,\n",
       "        0.01262304],\n",
       "       [0.00608611, 0.00855525, 0.        , ..., 0.        , 0.02348749,\n",
       "        0.00249102],\n",
       "       [0.0008594 , 0.00573197, 0.03574592, ..., 0.05112355, 0.00302882,\n",
       "        0.004863  ],\n",
       "       [0.00834219, 0.00863925, 0.00173151, ..., 0.00407257, 0.01454414,\n",
       "        0.00429856],\n",
       "       [0.01178123, 0.01620018, 0.00957778, ..., 0.05424295, 0.02020077,\n",
       "        0.00806185]])"
      ]
     },
     "execution_count": 124,
     "metadata": {},
     "output_type": "execute_result"
    }
   ],
   "source": [
    "km.cluster_centers_"
   ]
  },
  {
   "cell_type": "code",
   "execution_count": 125,
   "metadata": {},
   "outputs": [
    {
     "data": {
      "text/plain": [
       "(5, 563)"
      ]
     },
     "execution_count": 125,
     "metadata": {},
     "output_type": "execute_result"
    }
   ],
   "source": [
    "km.cluster_centers_.shape"
   ]
  },
  {
   "cell_type": "code",
   "execution_count": 126,
   "metadata": {},
   "outputs": [
    {
     "data": {
      "text/plain": [
       "563"
      ]
     },
     "execution_count": 126,
     "metadata": {},
     "output_type": "execute_result"
    }
   ],
   "source": [
    "len(terms)"
   ]
  },
  {
   "cell_type": "code",
   "execution_count": 127,
   "metadata": {},
   "outputs": [
    {
     "data": {
      "text/plain": [
       "[\"'d\",\n",
       " \"'s death\",\n",
       " \"'s father\",\n",
       " \"'s friend\",\n",
       " \"'s hous\",\n",
       " \"'s mother\",\n",
       " 'abandon',\n",
       " 'abl',\n",
       " 'accept',\n",
       " 'accid']"
      ]
     },
     "execution_count": 127,
     "metadata": {},
     "output_type": "execute_result"
    }
   ],
   "source": [
    "terms[:10]"
   ]
  },
  {
   "cell_type": "code",
   "execution_count": 128,
   "metadata": {},
   "outputs": [
    {
     "data": {
      "text/html": [
       "<div>\n",
       "<style scoped>\n",
       "    .dataframe tbody tr th:only-of-type {\n",
       "        vertical-align: middle;\n",
       "    }\n",
       "\n",
       "    .dataframe tbody tr th {\n",
       "        vertical-align: top;\n",
       "    }\n",
       "\n",
       "    .dataframe thead th {\n",
       "        text-align: right;\n",
       "    }\n",
       "</style>\n",
       "<table border=\"1\" class=\"dataframe\">\n",
       "  <thead>\n",
       "    <tr style=\"text-align: right;\">\n",
       "      <th></th>\n",
       "      <th>0</th>\n",
       "      <th>1</th>\n",
       "      <th>2</th>\n",
       "      <th>3</th>\n",
       "      <th>4</th>\n",
       "    </tr>\n",
       "  </thead>\n",
       "  <tbody>\n",
       "    <tr>\n",
       "      <th>'d</th>\n",
       "      <td>0.012367</td>\n",
       "      <td>0.006086</td>\n",
       "      <td>0.000859</td>\n",
       "      <td>0.008342</td>\n",
       "      <td>0.011781</td>\n",
       "    </tr>\n",
       "    <tr>\n",
       "      <th>'s death</th>\n",
       "      <td>0.011744</td>\n",
       "      <td>0.008555</td>\n",
       "      <td>0.005732</td>\n",
       "      <td>0.008639</td>\n",
       "      <td>0.016200</td>\n",
       "    </tr>\n",
       "    <tr>\n",
       "      <th>'s father</th>\n",
       "      <td>0.020202</td>\n",
       "      <td>0.000000</td>\n",
       "      <td>0.035746</td>\n",
       "      <td>0.001732</td>\n",
       "      <td>0.009578</td>\n",
       "    </tr>\n",
       "    <tr>\n",
       "      <th>'s friend</th>\n",
       "      <td>0.017152</td>\n",
       "      <td>0.008466</td>\n",
       "      <td>0.020354</td>\n",
       "      <td>0.010861</td>\n",
       "      <td>0.007944</td>\n",
       "    </tr>\n",
       "    <tr>\n",
       "      <th>'s hous</th>\n",
       "      <td>0.014079</td>\n",
       "      <td>0.003254</td>\n",
       "      <td>0.001779</td>\n",
       "      <td>0.003142</td>\n",
       "      <td>0.013167</td>\n",
       "    </tr>\n",
       "    <tr>\n",
       "      <th>...</th>\n",
       "      <td>...</td>\n",
       "      <td>...</td>\n",
       "      <td>...</td>\n",
       "      <td>...</td>\n",
       "      <td>...</td>\n",
       "    </tr>\n",
       "    <tr>\n",
       "      <th>wrong</th>\n",
       "      <td>0.011240</td>\n",
       "      <td>0.001246</td>\n",
       "      <td>0.013940</td>\n",
       "      <td>0.013652</td>\n",
       "      <td>0.009845</td>\n",
       "    </tr>\n",
       "    <tr>\n",
       "      <th>year</th>\n",
       "      <td>0.050275</td>\n",
       "      <td>0.010848</td>\n",
       "      <td>0.010526</td>\n",
       "      <td>0.018272</td>\n",
       "      <td>0.027657</td>\n",
       "    </tr>\n",
       "    <tr>\n",
       "      <th>york</th>\n",
       "      <td>0.023483</td>\n",
       "      <td>0.000000</td>\n",
       "      <td>0.051124</td>\n",
       "      <td>0.004073</td>\n",
       "      <td>0.054243</td>\n",
       "    </tr>\n",
       "    <tr>\n",
       "      <th>young</th>\n",
       "      <td>0.044540</td>\n",
       "      <td>0.023487</td>\n",
       "      <td>0.003029</td>\n",
       "      <td>0.014544</td>\n",
       "      <td>0.020201</td>\n",
       "    </tr>\n",
       "    <tr>\n",
       "      <th>young man</th>\n",
       "      <td>0.012623</td>\n",
       "      <td>0.002491</td>\n",
       "      <td>0.004863</td>\n",
       "      <td>0.004299</td>\n",
       "      <td>0.008062</td>\n",
       "    </tr>\n",
       "  </tbody>\n",
       "</table>\n",
       "<p>563 rows × 5 columns</p>\n",
       "</div>"
      ],
      "text/plain": [
       "                  0         1         2         3         4\n",
       "'d         0.012367  0.006086  0.000859  0.008342  0.011781\n",
       "'s death   0.011744  0.008555  0.005732  0.008639  0.016200\n",
       "'s father  0.020202  0.000000  0.035746  0.001732  0.009578\n",
       "'s friend  0.017152  0.008466  0.020354  0.010861  0.007944\n",
       "'s hous    0.014079  0.003254  0.001779  0.003142  0.013167\n",
       "...             ...       ...       ...       ...       ...\n",
       "wrong      0.011240  0.001246  0.013940  0.013652  0.009845\n",
       "year       0.050275  0.010848  0.010526  0.018272  0.027657\n",
       "york       0.023483  0.000000  0.051124  0.004073  0.054243\n",
       "young      0.044540  0.023487  0.003029  0.014544  0.020201\n",
       "young man  0.012623  0.002491  0.004863  0.004299  0.008062\n",
       "\n",
       "[563 rows x 5 columns]"
      ]
     },
     "execution_count": 128,
     "metadata": {},
     "output_type": "execute_result"
    }
   ],
   "source": [
    "#Creamos un dataframe con el valor promedio del uso de cada palabra en determinado token \n",
    "df_centroids = pandas.DataFrame(km.cluster_centers_.T, index = terms)\n",
    "df_centroids"
   ]
  },
  {
   "cell_type": "markdown",
   "metadata": {},
   "source": [
    "10 palabras más comunes en cluster 0"
   ]
  },
  {
   "cell_type": "code",
   "execution_count": 129,
   "metadata": {},
   "outputs": [
    {
     "data": {
      "text/plain": [
       "father    0.083936\n",
       "home      0.076540\n",
       "love      0.069292\n",
       "film      0.068818\n",
       "mother    0.068166\n",
       "hous      0.067564\n",
       "famili    0.064756\n",
       "war       0.062680\n",
       "marri     0.060208\n",
       "day       0.057224\n",
       "Name: 0, dtype: float64"
      ]
     },
     "execution_count": 129,
     "metadata": {},
     "output_type": "execute_result"
    }
   ],
   "source": [
    "df_centroids[0].nlargest(10)"
   ]
  },
  {
   "cell_type": "code",
   "execution_count": 130,
   "metadata": {
    "scrolled": true
   },
   "outputs": [
    {
     "data": {
      "text/plain": [
       "Index(['father', 'home', 'love', 'film', 'mother', 'hous', 'famili', 'war',\n",
       "       'marri', 'day'],\n",
       "      dtype='object')"
      ]
     },
     "execution_count": 130,
     "metadata": {},
     "output_type": "execute_result"
    }
   ],
   "source": [
    "top_10 = df_centroids[0].nlargest(10).index\n",
    "top_10"
   ]
  },
  {
   "cell_type": "code",
   "execution_count": 131,
   "metadata": {},
   "outputs": [
    {
     "data": {
      "text/html": [
       "<div>\n",
       "<style scoped>\n",
       "    .dataframe tbody tr th:only-of-type {\n",
       "        vertical-align: middle;\n",
       "    }\n",
       "\n",
       "    .dataframe tbody tr th {\n",
       "        vertical-align: top;\n",
       "    }\n",
       "\n",
       "    .dataframe thead th {\n",
       "        text-align: right;\n",
       "    }\n",
       "</style>\n",
       "<table border=\"1\" class=\"dataframe\">\n",
       "  <thead>\n",
       "    <tr style=\"text-align: right;\">\n",
       "      <th></th>\n",
       "      <th>words</th>\n",
       "    </tr>\n",
       "  </thead>\n",
       "  <tbody>\n",
       "    <tr>\n",
       "      <th>father</th>\n",
       "      <td>father</td>\n",
       "    </tr>\n",
       "    <tr>\n",
       "      <th>home</th>\n",
       "      <td>home</td>\n",
       "    </tr>\n",
       "    <tr>\n",
       "      <th>love</th>\n",
       "      <td>love</td>\n",
       "    </tr>\n",
       "    <tr>\n",
       "      <th>film</th>\n",
       "      <td>film</td>\n",
       "    </tr>\n",
       "    <tr>\n",
       "      <th>mother</th>\n",
       "      <td>mother</td>\n",
       "    </tr>\n",
       "    <tr>\n",
       "      <th>hous</th>\n",
       "      <td>house</td>\n",
       "    </tr>\n",
       "    <tr>\n",
       "      <th>famili</th>\n",
       "      <td>family</td>\n",
       "    </tr>\n",
       "    <tr>\n",
       "      <th>war</th>\n",
       "      <td>War</td>\n",
       "    </tr>\n",
       "    <tr>\n",
       "      <th>marri</th>\n",
       "      <td>marries</td>\n",
       "    </tr>\n",
       "    <tr>\n",
       "      <th>day</th>\n",
       "      <td>day</td>\n",
       "    </tr>\n",
       "  </tbody>\n",
       "</table>\n",
       "</div>"
      ],
      "text/plain": [
       "          words\n",
       "father   father\n",
       "home       home\n",
       "love       love\n",
       "film       film\n",
       "mother   mother\n",
       "hous      house\n",
       "famili   family\n",
       "war         War\n",
       "marri   marries\n",
       "day         day"
      ]
     },
     "execution_count": 131,
     "metadata": {},
     "output_type": "execute_result"
    }
   ],
   "source": [
    "vocabulario.loc[top_10]"
   ]
  },
  {
   "cell_type": "code",
   "execution_count": 132,
   "metadata": {},
   "outputs": [
    {
     "name": "stdout",
     "output_type": "stream",
     "text": [
      "Palabras clave en cada cluster\n",
      "\n",
      "----------------------------------------------------------------------\n",
      "Cluster 0 palabras: \n",
      "father, home, love, film, mother, house, family, War, marries, day \n",
      "\n",
      "Películas de cluster\n",
      "Gone with the Wind, Citizen Kane, Forrest Gump, E.T. the Extra-Terrestrial, Singin' in the Rain, Amadeus, Gandhi, A Streetcar Named Desire, To Kill a Mockingbird, The Best Years of Our Lives, My Fair Lady, Ben-Hur, Doctor Zhivago, Braveheart, The Exorcist, City Lights, Midnight Cowboy, Out of Africa, Good Will Hunting, Terms of Endearment, Giant, The Green Mile, Network, Nashville, The Graduate, Wuthering Heights, Yankee Doodle Dandy\n",
      "----------------------------------------------------------------------\n",
      "----------------------------------------------------------------------\n",
      "Cluster 1 palabras: \n",
      "soldiers, general, command, killed, Captain, orders, Army, men, War, office \n",
      "\n",
      "Películas de cluster\n",
      "Casablanca, Lawrence of Arabia, The Sound of Music, The Bridge on the River Kwai, Dr. Strangelove or: How I Learned to Stop Worrying and Love the Bomb, Apocalypse Now, Gladiator, From Here to Eternity, Saving Private Ryan, Patton, Platoon, Dances with Wolves, All Quiet on the Western Front, Shane\n",
      "----------------------------------------------------------------------\n",
      "----------------------------------------------------------------------\n",
      "Cluster 2 palabras: \n",
      "George, marries, woman, family, friends, John, James, playing, love, wants \n",
      "\n",
      "Películas de cluster\n",
      "It's a Wonderful Life, The Philadelphia Story, An American in Paris, The King's Speech, A Place in the Sun, Tootsie\n",
      "----------------------------------------------------------------------\n",
      "----------------------------------------------------------------------\n",
      "Cluster 3 palabras: \n",
      "ship, water, camps, Army, killed, escape, guarding, prison, people, group \n",
      "\n",
      "Películas de cluster\n",
      "The Shawshank Redemption, Schindler's List, One Flew Over the Cuckoo's Nest, The Wizard of Oz, Titanic, Star Wars, 2001: A Space Odyssey, The Lord of the Rings: The Return of the King, Raiders of the Lost Ark, Jaws, The Treasure of the Sierra Madre, The Pianist, The Deer Hunter, Mr. Smith Goes to Washington, The Grapes of Wrath, Close Encounters of the Third Kind, The African Queen, Stagecoach, Mutiny on the Bounty\n",
      "----------------------------------------------------------------------\n",
      "----------------------------------------------------------------------\n",
      "Cluster 4 palabras: \n",
      "car, Police, killed, apartments, murders, father, New, meet, train, friends \n",
      "\n",
      "Películas de cluster\n",
      "The Godfather, Raging Bull, The Godfather: Part II, Psycho, Sunset Blvd., Vertigo, On the Waterfront, West Side Story, The Silence of the Lambs, Chinatown, Some Like It Hot, 12 Angry Men, Unforgiven, Rocky, The Good, the Bad and the Ugly, Butch Cassidy and the Sundance Kid, The Apartment, High Noon, Goodfellas, The French Connection, It Happened One Night, Rain Man, Annie Hall, Fargo, American Graffiti, Pulp Fiction, The Maltese Falcon, A Clockwork Orange, Taxi Driver, Double Indemnity, Rebel Without a Cause, Rear Window, The Third Man, North by Northwest\n",
      "----------------------------------------------------------------------\n"
     ]
    }
   ],
   "source": [
    "print('Palabras clave en cada cluster\\n')\n",
    "\n",
    "for cluster in range(5):\n",
    "\n",
    "    print('----------------------------------------------------------------------')\n",
    "    print(f'Cluster {cluster} palabras: ')\n",
    "    \n",
    "    palabras_stem =  df_centroids[cluster].nlargest(10).index\n",
    "    palabras_originales = vocabulario.loc[palabras_stem]['words'].values\n",
    "    print(', '.join(palabras_originales), '\\n')\n",
    "    \n",
    "    print('Películas de cluster')\n",
    "    peliculas = df_peliculas.query(f'cluster == {cluster}')['titulo'].values\n",
    "    print(', '.join(peliculas),)\n",
    "    print('----------------------------------------------------------------------')"
   ]
  },
  {
   "cell_type": "markdown",
   "metadata": {},
   "source": [
    "## Visualizando las palabras clave en una película"
   ]
  },
  {
   "cell_type": "code",
   "execution_count": 133,
   "metadata": {},
   "outputs": [],
   "source": [
    "from wordcloud import WordCloud\n",
    "from collections import Counter\n",
    "\n",
    "import matplotlib.pyplot as plt"
   ]
  },
  {
   "cell_type": "code",
   "execution_count": 134,
   "metadata": {},
   "outputs": [],
   "source": [
    "tokens = tokenizar(sinopsis_totales[0])\n",
    "tokens = [token for token in tokens if token not in stopwords]\n",
    "tokens = stemming(tokens)"
   ]
  },
  {
   "cell_type": "code",
   "execution_count": 135,
   "metadata": {},
   "outputs": [
    {
     "data": {
      "text/plain": [
       "[(\"'s\", 97),\n",
       " ('michael', 90),\n",
       " ('don', 49),\n",
       " ('famili', 49),\n",
       " ('corleon', 44),\n",
       " ('sonni', 43),\n",
       " ('vito', 36),\n",
       " ('carlo', 31),\n",
       " ('sollozzo', 26),\n",
       " ('conni', 25),\n",
       " ('kill', 24),\n",
       " ('meet', 24),\n",
       " ('hagen', 20),\n",
       " ('kay', 19),\n",
       " ('the', 19),\n",
       " ('son', 18),\n",
       " ('father', 18),\n",
       " ('tattaglia', 16),\n",
       " ('green', 16),\n",
       " ('barzini', 16)]"
      ]
     },
     "execution_count": 135,
     "metadata": {},
     "output_type": "execute_result"
    }
   ],
   "source": [
    "Counter(tokens).most_common(20)"
   ]
  },
  {
   "cell_type": "code",
   "execution_count": 136,
   "metadata": {},
   "outputs": [
    {
     "data": {
      "image/png": "[encoded data removed]",
      "text/plain": [
       "<Figure size 432x288 with 1 Axes>"
      ]
     },
     "metadata": {
      "needs_background": "light"
     },
     "output_type": "display_data"
    }
   ],
   "source": [
    "wordcloud = WordCloud(max_font_size=50, max_words=100, background_color=\"white\").generate(sinopsis_totales[0])\n",
    "plt.figure()\n",
    "plt.imshow(wordcloud, interpolation=\"bilinear\")\n",
    "plt.axis(\"off\")\n",
    "plt.show()"
   ]
  },
  {
   "cell_type": "markdown",
   "metadata": {},
   "source": [
    "### Visualizando los clusters"
   ]
  },
  {
   "cell_type": "code",
   "execution_count": 137,
   "metadata": {},
   "outputs": [],
   "source": [
    "#set up colors per clusters using a dict\n",
    "cluster_colors = {0: '#1b9e77', 1: '#d95f02', 2: '#7570b3', 3: '#e7298a', 4: '#66a61e'}\n",
    "\n",
    "#set up cluster names using a dict\n",
    "cluster_names = {0: 'car, killed, police, father',\n",
    "                 1: 'family, prison, New, Police',\n",
    "                 2: 'soldiers, Army, command, killed', \n",
    "                 3: 'George, marries, woman, family', \n",
    "                 4: 'War, home, marries, family'}"
   ]
  },
  {
   "cell_type": "code",
   "execution_count": 138,
   "metadata": {},
   "outputs": [],
   "source": [
    "%matplotlib inline"
   ]
  },
  {
   "cell_type": "markdown",
   "metadata": {},
   "source": [
    "Reduciendo las dimensiones con MDS (para plotear 2):"
   ]
  },
  {
   "cell_type": "code",
   "execution_count": 139,
   "metadata": {},
   "outputs": [],
   "source": [
    "import os  # for os.path.basename\n",
    "import matplotlib.pyplot as plt\n",
    "import matplotlib as mpl\n",
    "from sklearn.manifold import MDS\n",
    "\n",
    "MDS() # nos permitira reducir las 563 variables que teniamos en solo 2 \n",
    "\n",
    "# two components as we're plotting points in a two-dimensional plane\n",
    "# \"precomputed\" because we provide a distance matrix\n",
    "# we will also specify `random_state` so the plot is reproducible.\n",
    "mds = MDS(n_components=2, dissimilarity=\"precomputed\", random_state=1)\n",
    "pos = mds.fit_transform(dist)  # shape (n_components, n_samples)\n",
    "xs, ys = pos[:, 0], pos[:, 1]"
   ]
  },
  {
   "cell_type": "code",
   "execution_count": 140,
   "metadata": {},
   "outputs": [],
   "source": [
    "#create data frame that has the result of the MDS plus the cluster numbers and titles\n",
    "df = pandas.DataFrame(dict(x=xs, y=ys, label=clusters, title=titulos)) \n",
    "\n",
    "#group by cluster\n",
    "groups = df.groupby('label')"
   ]
  },
  {
   "cell_type": "markdown",
   "metadata": {},
   "source": [
    "#### **_Visualizaremos un gráfico que, en base a las palabras claves, agrupamos las peliculas_**"
   ]
  },
  {
   "cell_type": "code",
   "execution_count": 142,
   "metadata": {
    "scrolled": false
   },
   "outputs": [
    {
     "data": {
      "image/png": "[encoded data removed]",
      "text/plain": [
       "<Figure size 1224x648 with 1 Axes>"
      ]
     },
     "metadata": {
      "needs_background": "light"
     },
     "output_type": "display_data"
    },
    {
     "data": {
      "text/plain": [
       "<Figure size 432x288 with 0 Axes>"
      ]
     },
     "metadata": {},
     "output_type": "display_data"
    }
   ],
   "source": [
    "fig, ax = plt.subplots(figsize=(17, 9)) \n",
    "ax.margins(0.05) \n",
    "\n",
    "for name, group in groups:\n",
    "    ax.plot(group.x, group.y, marker='o', linestyle='', ms=12, label=cluster_names[name], color=cluster_colors[name], mec='none')\n",
    "    ax.set_aspect('auto')\n",
    "    ax.tick_params(\\\n",
    "        axis= 'x',          \n",
    "        which='both',      \n",
    "        bottom='off',      \n",
    "        top='off',         \n",
    "        labelbottom='off')\n",
    "    ax.tick_params(\\\n",
    "        axis= 'y',         \n",
    "        which='both',      \n",
    "        left='off',      \n",
    "        top='off',       \n",
    "        labelleft='off')\n",
    "    \n",
    "ax.legend(numpoints=1)  \n",
    "\n",
    "for i in range(len(df)):\n",
    "    ax.text(df.loc[i]['x'], df.loc[i]['y'], df.loc[i]['title'], size=8)  \n",
    "\n",
    "\n",
    "plt.show() \n",
    "plt.savefig('KMeans.png', dpi=300)"
   ]
  },
  {
   "cell_type": "markdown",
   "metadata": {},
   "source": [
    "### Hierarchical"
   ]
  },
  {
   "cell_type": "markdown",
   "metadata": {},
   "source": [
    "### **_Al usar un dendograma obtenemos un grafico que nos indica como se van agrupando las peliculas en base a su similitud_**"
   ]
  },
  {
   "cell_type": "code",
   "execution_count": 143,
   "metadata": {},
   "outputs": [
    {
     "data": {
      "image/png": "[encoded data removed]",
      "text/plain": [
       "<Figure size 1080x1440 with 1 Axes>"
      ]
     },
     "metadata": {
      "needs_background": "light"
     },
     "output_type": "display_data"
    }
   ],
   "source": [
    "from scipy.cluster.hierarchy import ward, dendrogram\n",
    "\n",
    "linkage_matrix = ward(dist) \n",
    "\n",
    "fig, ax = plt.subplots(figsize=(15, 20)) # set size\n",
    "ax = dendrogram(linkage_matrix, orientation=\"right\", labels=titulos);\n",
    "\n",
    "plt.tick_params(\\\n",
    "    axis= 'x',          \n",
    "    which='both',      \n",
    "    bottom='off',      \n",
    "    top='off',         \n",
    "    labelbottom='off')\n",
    "\n",
    "plt.tight_layout() \n",
    "plt.savefig('hierarchical.png', dpi=300) "
   ]
  },
  {
   "cell_type": "code",
   "execution_count": null,
   "metadata": {},
   "outputs": [],
   "source": []
  }
 ],
 "metadata": {
  "kernelspec": {
   "display_name": "Python 3 (ipykernel)",
   "language": "python",
   "name": "python3"
  },
  "language_info": {
   "codemirror_mode": {
    "name": "ipython",
    "version": 3
   },
   "file_extension": ".py",
   "mimetype": "text/x-python",
   "name": "python",
   "nbconvert_exporter": "python",
   "pygments_lexer": "ipython3",
   "version": "3.8.11"
  }
 },
 "nbformat": 4,
 "nbformat_minor": 2
}
